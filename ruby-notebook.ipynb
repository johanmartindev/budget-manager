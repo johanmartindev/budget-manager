{
 "cells": [
  {
   "cell_type": "code",
   "execution_count": 2,
   "id": "4a16d1cc-bf7b-4983-bdae-d510b3b3f8ba",
   "metadata": {},
   "outputs": [
    {
     "data": {
      "text/latex": [
       "\\begin{align}\n",
       "\\nabla \\times \\vec{\\mathbf{B}} -\\, \\frac1c\\, \\frac{\\partial\\vec{\\mathbf{E}}}{\\partial t} & = \\frac{4\\pi}{c}\\vec{\\mathbf{j}} \\\\\n",
       "\\nabla \\cdot \\vec{\\mathbf{E}} & = 4 \\pi \\rho \\\\\n",
       "\\nabla \\times \\vec{\\mathbf{E}}\\, +\\, \\frac1c\\, \\frac{\\partial\\vec{\\mathbf{B}}}{\\partial t} & = \\vec{\\mathbf{0}} \\\\\n",
       "\\nabla \\cdot \\vec{\\mathbf{B}} & = 0 \n",
       "\\end{align}\n"
      ],
      "text/plain": [
       "\"\\\\begin{align}\\n\\\\nabla \\\\times \\\\vec{\\\\mathbf{B}} -\\\\, \\\\frac1c\\\\, \\\\frac{\\\\partial\\\\vec{\\\\mathbf{E}}}{\\\\partial t} & = \\\\frac{4\\\\pi}{c}\\\\vec{\\\\mathbf{j}} \\\\\\\\\\n\\\\nabla \\\\cdot \\\\vec{\\\\mathbf{E}} & = 4 \\\\pi \\\\rho \\\\\\\\\\n\\\\nabla \\\\times \\\\vec{\\\\mathbf{E}}\\\\, +\\\\, \\\\frac1c\\\\, \\\\frac{\\\\partial\\\\vec{\\\\mathbf{B}}}{\\\\partial t} & = \\\\vec{\\\\mathbf{0}} \\\\\\\\\\n\\\\nabla \\\\cdot \\\\vec{\\\\mathbf{B}} & = 0 \\n\\\\end{align}\\n\""
      ]
     },
     "metadata": {},
     "output_type": "display_data"
    },
    {
     "data": {
      "text/latex": [
       "$$F(k) = \\int_{-\\infty}^{\\infty} f(x) e^{2\\pi i k} dx$$"
      ],
      "text/plain": [
       "\"$$F(k) = \\\\int_{-\\\\infty}^{\\\\infty} f(x) e^{2\\\\pi i k} dx$$\""
      ]
     },
     "execution_count": 2,
     "metadata": {},
     "output_type": "execute_result"
    }
   ],
   "source": [
    "IRuby.display IRuby.latex <<-'TEX'\n",
    "\\begin{align}\n",
    "\\nabla \\times \\vec{\\mathbf{B}} -\\, \\frac1c\\, \\frac{\\partial\\vec{\\mathbf{E}}}{\\partial t} & = \\frac{4\\pi}{c}\\vec{\\mathbf{j}} \\\\\n",
    "\\nabla \\cdot \\vec{\\mathbf{E}} & = 4 \\pi \\rho \\\\\n",
    "\\nabla \\times \\vec{\\mathbf{E}}\\, +\\, \\frac1c\\, \\frac{\\partial\\vec{\\mathbf{B}}}{\\partial t} & = \\vec{\\mathbf{0}} \\\\\n",
    "\\nabla \\cdot \\vec{\\mathbf{B}} & = 0 \n",
    "\\end{align}\n",
    "TEX\n",
    "\n",
    "IRuby.math('F(k) = \\int_{-\\infty}^{\\infty} f(x) e^{2\\pi i k} dx')"
   ]
  },
  {
   "cell_type": "code",
   "execution_count": 2,
   "id": "b2e59ee9-f803-4bc4-b41d-cc66a668cb19",
   "metadata": {},
   "outputs": [
    {
     "name": "stdout",
     "output_type": "stream",
     "text": [
      "                 user     system      total        real\n",
      "map.flatten  0.000033   0.000006   0.000039 (  0.000033)\n",
      "flat_map     0.000013   0.000000   0.000013 (  0.000013)\n",
      "map.flatten  0.000035   0.000001   0.000036 (  0.000036)\n",
      "flat_map     0.000015   0.000001   0.000016 (  0.000015)\n",
      "map.flatten  0.000145   0.000016   0.000161 (  0.000189)\n",
      "flat_map     0.000069   0.000029   0.000098 (  0.000098)\n",
      "map.flatten  0.000265   0.000007   0.000272 (  0.000272)\n",
      "flat_map     0.000111   0.000021   0.000132 (  0.000133)\n"
     ]
    },
    {
     "data": {
      "text/plain": [
       "[#<Benchmark::Tms:0x000000012d29d078 @utime=3.300000000000525e-05, @stime=5.999999999999062e-06, @cutime=0.0, @cstime=0.0, @real=3.300000025774352e-05, @label=\"map.flatten\", @total=3.900000000000431e-05>, #<Benchmark::Tms:0x000000012d29cf88 @utime=1.2999999999985246e-05, @stime=0.0, @cutime=0.0, @cstime=0.0, @real=1.300000076298602e-05, @label=\"flat_map\", @total=1.2999999999985246e-05>, #<Benchmark::Tms:0x000000012d29ce98 @utime=3.500000000000725e-05, @stime=1.000000000001e-06, @cutime=0.0, @cstime=0.0, @real=3.599999763537198e-05, @label=\"map.flatten\", @total=3.600000000000825e-05>, #<Benchmark::Tms:0x000000012d29cda8 @utime=1.4999999999987246e-05, @stime=9.999999999940612e-07, @cutime=0.0, @cstime=0.0, @real=1.5000001440057531e-05, @label=\"flat_map\", @total=1.5999999999981307e-05>, #<Benchmark::Tms:0x000000012d29ccb8 @utime=0.00014500000000000624, @stime=1.6000000000002124e-05, @cutime=0.0, @cstime=0.0, @real=0.00018899999849963933, @label=\"map.flatten\", @total=0.00016100000000000836>, #<Benchmark::Tms:0x000000012d29cbc8 @utime=6.899999999998574e-05, @stime=2.9000000000001247e-05, @cutime=0.0, @cstime=0.0, @real=9.800000043469481e-05, @label=\"flat_map\", @total=9.799999999998699e-05>, #<Benchmark::Tms:0x000000012d29cad8 @utime=0.00026499999999998747, @stime=7.000000000000062e-06, @cutime=0.0, @cstime=0.0, @real=0.0002720000011322554, @label=\"map.flatten\", @total=0.00027199999999998753>, #<Benchmark::Tms:0x000000012d29c9e8 @utime=0.00011099999999999999, @stime=2.1000000000000185e-05, @cutime=0.0, @cstime=0.0, @real=0.00013300000136950985, @label=\"flat_map\", @total=0.00013200000000000017>]"
      ]
     },
     "execution_count": 2,
     "metadata": {},
     "output_type": "execute_result"
    }
   ],
   "source": [
    "require 'benchmark'\n",
    "\n",
    "arr = [50,100,500,1000]\n",
    "Benchmark.bm do |x|\n",
    "  arr.each do |size|\n",
    "    x.report(\"map.flatten\") do\n",
    "      (1..size).to_a.map {|e| [e,e]}.flatten\n",
    "    end\n",
    "\n",
    "    x.report(\"flat_map\") do\n",
    "      (1..size).to_a.flat_map {|e| [e,e]}\n",
    "    end\n",
    "  end\n",
    "end"
   ]
  },
  {
   "cell_type": "code",
   "execution_count": 3,
   "id": "443d2c70",
   "metadata": {},
   "outputs": [
    {
     "data": {
      "text/html": [
       "Hello, world!"
      ],
      "text/plain": [
       "\"Hello, world!\""
      ]
     },
     "metadata": {},
     "output_type": "display_data"
    }
   ],
   "source": [
    "IRuby.display 'Hello, world!', mime: 'text/html'"
   ]
  }
 ],
 "metadata": {
  "kernelspec": {
   "display_name": "Ruby 3 (iruby kernel)",
   "language": "ruby",
   "name": "ruby3"
  },
  "language_info": {
   "file_extension": ".rb",
   "mimetype": "application/x-ruby",
   "name": "ruby",
   "version": "3.4.4"
  }
 },
 "nbformat": 4,
 "nbformat_minor": 5
}
