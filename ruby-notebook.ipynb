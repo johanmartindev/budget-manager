{
 "cells": [
  {
   "cell_type": "code",
   "execution_count": 1,
   "id": "4a16d1cc-bf7b-4983-bdae-d510b3b3f8ba",
   "metadata": {},
   "outputs": [
    {
     "data": {
      "text/latex": [
       "\\begin{eqnarray}\n",
       "\\nabla \\times \\vec{\\mathbf{B}} -\\, \\frac1c\\, \\frac{\\partial\\vec{\\mathbf{E}}}{\\partial t} & = \\frac{4\\pi}{c}\\vec{\\mathbf{j}} \\\\\n",
       "\\nabla \\cdot \\vec{\\mathbf{E}} & = 4 \\pi \\rho \\\\\n",
       "\\nabla \\times \\vec{\\mathbf{E}}\\, +\\, \\frac1c\\, \\frac{\\partial\\vec{\\mathbf{B}}}{\\partial t} & = \\vec{\\mathbf{0}} \\\\\n",
       "\\nabla \\cdot \\vec{\\mathbf{B}} & = 0 \n",
       "\\end{eqnarray}\n"
      ],
      "text/plain": [
       "\"\\\\begin{eqnarray}\\n\\\\nabla \\\\times \\\\vec{\\\\mathbf{B}} -\\\\, \\\\frac1c\\\\, \\\\frac{\\\\partial\\\\vec{\\\\mathbf{E}}}{\\\\partial t} & = \\\\frac{4\\\\pi}{c}\\\\vec{\\\\mathbf{j}} \\\\\\\\\\n\\\\nabla \\\\cdot \\\\vec{\\\\mathbf{E}} & = 4 \\\\pi \\\\rho \\\\\\\\\\n\\\\nabla \\\\times \\\\vec{\\\\mathbf{E}}\\\\, +\\\\, \\\\frac1c\\\\, \\\\frac{\\\\partial\\\\vec{\\\\mathbf{B}}}{\\\\partial t} & = \\\\vec{\\\\mathbf{0}} \\\\\\\\\\n\\\\nabla \\\\cdot \\\\vec{\\\\mathbf{B}} & = 0 \\n\\\\end{eqnarray}\\n\""
      ]
     },
     "metadata": {},
     "output_type": "display_data"
    },
    {
     "data": {
      "text/latex": [
       "$$F(k) = \\int_{-\\infty}^{\\infty} f(x) e^{2\\pi i k} dx$$"
      ],
      "text/plain": [
       "\"$$F(k) = \\\\int_{-\\\\infty}^{\\\\infty} f(x) e^{2\\\\pi i k} dx$$\""
      ]
     },
     "execution_count": 1,
     "metadata": {},
     "output_type": "execute_result"
    }
   ],
   "source": [
    "IRuby.display IRuby.latex <<-'TEX'\n",
    "\\begin{eqnarray}\n",
    "\\nabla \\times \\vec{\\mathbf{B}} -\\, \\frac1c\\, \\frac{\\partial\\vec{\\mathbf{E}}}{\\partial t} & = \\frac{4\\pi}{c}\\vec{\\mathbf{j}} \\\\\n",
    "\\nabla \\cdot \\vec{\\mathbf{E}} & = 4 \\pi \\rho \\\\\n",
    "\\nabla \\times \\vec{\\mathbf{E}}\\, +\\, \\frac1c\\, \\frac{\\partial\\vec{\\mathbf{B}}}{\\partial t} & = \\vec{\\mathbf{0}} \\\\\n",
    "\\nabla \\cdot \\vec{\\mathbf{B}} & = 0 \n",
    "\\end{eqnarray}\n",
    "TEX\n",
    "\n",
    "IRuby.math('F(k) = \\int_{-\\infty}^{\\infty} f(x) e^{2\\pi i k} dx')"
   ]
  },
  {
   "cell_type": "code",
   "execution_count": null,
   "id": "b2e59ee9-f803-4bc4-b41d-cc66a668cb19",
   "metadata": {},
   "outputs": [],
   "source": []
  }
 ],
 "metadata": {
  "kernelspec": {
   "display_name": "Ruby 3 (iruby kernel)",
   "language": "ruby",
   "name": "ruby3"
  },
  "language_info": {
   "file_extension": ".rb",
   "mimetype": "application/x-ruby",
   "name": "ruby",
   "version": "3.4.4"
  }
 },
 "nbformat": 4,
 "nbformat_minor": 5
}
